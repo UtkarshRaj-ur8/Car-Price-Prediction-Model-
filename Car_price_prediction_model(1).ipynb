{
 "cells": [
  {
   "cell_type": "code",
   "execution_count": 1,
   "metadata": {},
   "outputs": [],
   "source": [
    "import pandas as pd  \n",
    "import numpy as np \n",
    "import warnings\n",
    "warnings.filterwarnings('ignore')"
   ]
  },
  {
   "cell_type": "code",
   "execution_count": 38,
   "metadata": {},
   "outputs": [],
   "source": [
    "cp= pd.read_csv('D:\\MY Projects\\Python and MLDL\\CAR Price ML Model\\Car_Data_Main.csv')"
   ]
  },
  {
   "cell_type": "code",
   "execution_count": 39,
   "metadata": {},
   "outputs": [
    {
     "data": {
      "text/html": [
       "<div>\n",
       "<style scoped>\n",
       "    .dataframe tbody tr th:only-of-type {\n",
       "        vertical-align: middle;\n",
       "    }\n",
       "\n",
       "    .dataframe tbody tr th {\n",
       "        vertical-align: top;\n",
       "    }\n",
       "\n",
       "    .dataframe thead th {\n",
       "        text-align: right;\n",
       "    }\n",
       "</style>\n",
       "<table border=\"1\" class=\"dataframe\">\n",
       "  <thead>\n",
       "    <tr style=\"text-align: right;\">\n",
       "      <th></th>\n",
       "      <th>MAKE</th>\n",
       "      <th>MODEL</th>\n",
       "      <th>FullModelName</th>\n",
       "      <th>Year</th>\n",
       "      <th>Selling_Price</th>\n",
       "      <th>Km_Driven</th>\n",
       "      <th>Fuel</th>\n",
       "      <th>Seller_Type</th>\n",
       "      <th>Transmission</th>\n",
       "      <th>Owner</th>\n",
       "      <th>Mileage</th>\n",
       "      <th>Engine</th>\n",
       "      <th>Max_Power</th>\n",
       "      <th>Torque</th>\n",
       "      <th>Seats</th>\n",
       "    </tr>\n",
       "  </thead>\n",
       "  <tbody>\n",
       "    <tr>\n",
       "      <th>0</th>\n",
       "      <td>Maruti</td>\n",
       "      <td>Swift Dzire VDI</td>\n",
       "      <td>Maruti Swift Dzire VDI</td>\n",
       "      <td>2014</td>\n",
       "      <td>450000</td>\n",
       "      <td>145500</td>\n",
       "      <td>Diesel</td>\n",
       "      <td>Individual</td>\n",
       "      <td>Manual</td>\n",
       "      <td>First</td>\n",
       "      <td>23.4 kmpl</td>\n",
       "      <td>1248 CC</td>\n",
       "      <td>74 bhp</td>\n",
       "      <td>190Nm@ 2000rpm</td>\n",
       "      <td>5.0</td>\n",
       "    </tr>\n",
       "    <tr>\n",
       "      <th>1</th>\n",
       "      <td>Skoda</td>\n",
       "      <td>Rapid 1.5 TDI Ambition</td>\n",
       "      <td>Skoda Rapid 1.5 TDI Ambition</td>\n",
       "      <td>2014</td>\n",
       "      <td>370000</td>\n",
       "      <td>120000</td>\n",
       "      <td>Diesel</td>\n",
       "      <td>Individual</td>\n",
       "      <td>Manual</td>\n",
       "      <td>Second</td>\n",
       "      <td>21.14 kmpl</td>\n",
       "      <td>1498 CC</td>\n",
       "      <td>103.52 bhp</td>\n",
       "      <td>250Nm@ 1500-2500rpm</td>\n",
       "      <td>5.0</td>\n",
       "    </tr>\n",
       "    <tr>\n",
       "      <th>2</th>\n",
       "      <td>Honda</td>\n",
       "      <td>City 2017-2020 EXi</td>\n",
       "      <td>Honda City 2017-2020 EXi</td>\n",
       "      <td>2006</td>\n",
       "      <td>158000</td>\n",
       "      <td>140000</td>\n",
       "      <td>Petrol</td>\n",
       "      <td>Individual</td>\n",
       "      <td>Manual</td>\n",
       "      <td>Third</td>\n",
       "      <td>17.7 kmpl</td>\n",
       "      <td>1497 CC</td>\n",
       "      <td>78 bhp</td>\n",
       "      <td>12.7@ 2,700(kgm@ rpm)</td>\n",
       "      <td>5.0</td>\n",
       "    </tr>\n",
       "    <tr>\n",
       "      <th>3</th>\n",
       "      <td>Hyundai</td>\n",
       "      <td>i20 Sportz Diesel</td>\n",
       "      <td>Hyundai i20 Sportz Diesel</td>\n",
       "      <td>2010</td>\n",
       "      <td>225000</td>\n",
       "      <td>127000</td>\n",
       "      <td>Diesel</td>\n",
       "      <td>Individual</td>\n",
       "      <td>Manual</td>\n",
       "      <td>First</td>\n",
       "      <td>23.0 kmpl</td>\n",
       "      <td>1396 CC</td>\n",
       "      <td>90 bhp</td>\n",
       "      <td>22.4 kgm at 1750-2750rpm</td>\n",
       "      <td>5.0</td>\n",
       "    </tr>\n",
       "    <tr>\n",
       "      <th>4</th>\n",
       "      <td>Maruti</td>\n",
       "      <td>Swift VXI BSIII</td>\n",
       "      <td>Maruti Swift VXI BSIII</td>\n",
       "      <td>2007</td>\n",
       "      <td>130000</td>\n",
       "      <td>120000</td>\n",
       "      <td>Petrol</td>\n",
       "      <td>Individual</td>\n",
       "      <td>Manual</td>\n",
       "      <td>First</td>\n",
       "      <td>16.1 kmpl</td>\n",
       "      <td>1298 CC</td>\n",
       "      <td>88.2 bhp</td>\n",
       "      <td>11.5@ 4,500(kgm@ rpm)</td>\n",
       "      <td>5.0</td>\n",
       "    </tr>\n",
       "  </tbody>\n",
       "</table>\n",
       "</div>"
      ],
      "text/plain": [
       "      MAKE                   MODEL                 FullModelName  Year  \\\n",
       "0   Maruti         Swift Dzire VDI        Maruti Swift Dzire VDI  2014   \n",
       "1    Skoda  Rapid 1.5 TDI Ambition  Skoda Rapid 1.5 TDI Ambition  2014   \n",
       "2    Honda      City 2017-2020 EXi      Honda City 2017-2020 EXi  2006   \n",
       "3  Hyundai       i20 Sportz Diesel     Hyundai i20 Sportz Diesel  2010   \n",
       "4   Maruti         Swift VXI BSIII        Maruti Swift VXI BSIII  2007   \n",
       "\n",
       "   Selling_Price  Km_Driven    Fuel Seller_Type Transmission   Owner  \\\n",
       "0         450000     145500  Diesel  Individual       Manual   First   \n",
       "1         370000     120000  Diesel  Individual       Manual  Second   \n",
       "2         158000     140000  Petrol  Individual       Manual   Third   \n",
       "3         225000     127000  Diesel  Individual       Manual   First   \n",
       "4         130000     120000  Petrol  Individual       Manual   First   \n",
       "\n",
       "      Mileage   Engine   Max_Power                    Torque  Seats  \n",
       "0   23.4 kmpl  1248 CC      74 bhp            190Nm@ 2000rpm    5.0  \n",
       "1  21.14 kmpl  1498 CC  103.52 bhp       250Nm@ 1500-2500rpm    5.0  \n",
       "2   17.7 kmpl  1497 CC      78 bhp     12.7@ 2,700(kgm@ rpm)    5.0  \n",
       "3   23.0 kmpl  1396 CC      90 bhp  22.4 kgm at 1750-2750rpm    5.0  \n",
       "4   16.1 kmpl  1298 CC    88.2 bhp     11.5@ 4,500(kgm@ rpm)    5.0  "
      ]
     },
     "execution_count": 39,
     "metadata": {},
     "output_type": "execute_result"
    }
   ],
   "source": [
    "cp.head(5)"
   ]
  },
  {
   "cell_type": "code",
   "execution_count": 40,
   "metadata": {},
   "outputs": [
    {
     "data": {
      "text/plain": [
       "MAKE              object\n",
       "MODEL             object\n",
       "FullModelName     object\n",
       "Year               int64\n",
       "Selling_Price      int64\n",
       "Km_Driven          int64\n",
       "Fuel              object\n",
       "Seller_Type       object\n",
       "Transmission      object\n",
       "Owner             object\n",
       "Mileage           object\n",
       "Engine            object\n",
       "Max_Power         object\n",
       "Torque            object\n",
       "Seats            float64\n",
       "dtype: object"
      ]
     },
     "execution_count": 40,
     "metadata": {},
     "output_type": "execute_result"
    }
   ],
   "source": [
    "cp.dtypes"
   ]
  },
  {
   "cell_type": "code",
   "execution_count": 41,
   "metadata": {},
   "outputs": [
    {
     "name": "stdout",
     "output_type": "stream",
     "text": [
      "<class 'pandas.core.frame.DataFrame'>\n",
      "RangeIndex: 8128 entries, 0 to 8127\n",
      "Data columns (total 15 columns):\n",
      " #   Column         Non-Null Count  Dtype  \n",
      "---  ------         --------------  -----  \n",
      " 0   MAKE           8128 non-null   object \n",
      " 1   MODEL          8128 non-null   object \n",
      " 2   FullModelName  8128 non-null   object \n",
      " 3   Year           8128 non-null   int64  \n",
      " 4   Selling_Price  8128 non-null   int64  \n",
      " 5   Km_Driven      8128 non-null   int64  \n",
      " 6   Fuel           8128 non-null   object \n",
      " 7   Seller_Type    8128 non-null   object \n",
      " 8   Transmission   8128 non-null   object \n",
      " 9   Owner          8128 non-null   object \n",
      " 10  Mileage        7907 non-null   object \n",
      " 11  Engine         7907 non-null   object \n",
      " 12  Max_Power      7913 non-null   object \n",
      " 13  Torque         7906 non-null   object \n",
      " 14  Seats          7907 non-null   float64\n",
      "dtypes: float64(1), int64(3), object(11)\n",
      "memory usage: 952.6+ KB\n"
     ]
    }
   ],
   "source": [
    "cp.info()"
   ]
  },
  {
   "cell_type": "code",
   "execution_count": 42,
   "metadata": {},
   "outputs": [
    {
     "data": {
      "text/html": [
       "<div>\n",
       "<style scoped>\n",
       "    .dataframe tbody tr th:only-of-type {\n",
       "        vertical-align: middle;\n",
       "    }\n",
       "\n",
       "    .dataframe tbody tr th {\n",
       "        vertical-align: top;\n",
       "    }\n",
       "\n",
       "    .dataframe thead th {\n",
       "        text-align: right;\n",
       "    }\n",
       "</style>\n",
       "<table border=\"1\" class=\"dataframe\">\n",
       "  <thead>\n",
       "    <tr style=\"text-align: right;\">\n",
       "      <th></th>\n",
       "      <th>MAKE</th>\n",
       "      <th>MODEL</th>\n",
       "      <th>FullModelName</th>\n",
       "      <th>Year</th>\n",
       "      <th>Selling_Price</th>\n",
       "      <th>Km_Driven</th>\n",
       "      <th>Fuel</th>\n",
       "      <th>Seller_Type</th>\n",
       "      <th>Transmission</th>\n",
       "      <th>Owner</th>\n",
       "      <th>Mileage</th>\n",
       "      <th>Engine</th>\n",
       "      <th>Max_Power</th>\n",
       "      <th>Torque</th>\n",
       "      <th>Seats</th>\n",
       "    </tr>\n",
       "  </thead>\n",
       "  <tbody>\n",
       "    <tr>\n",
       "      <th>count</th>\n",
       "      <td>8128</td>\n",
       "      <td>8128</td>\n",
       "      <td>8128</td>\n",
       "      <td>8128.000000</td>\n",
       "      <td>8.128000e+03</td>\n",
       "      <td>8.128000e+03</td>\n",
       "      <td>8128</td>\n",
       "      <td>8128</td>\n",
       "      <td>8128</td>\n",
       "      <td>8128</td>\n",
       "      <td>7907</td>\n",
       "      <td>7907</td>\n",
       "      <td>7913</td>\n",
       "      <td>7906</td>\n",
       "      <td>7907.000000</td>\n",
       "    </tr>\n",
       "    <tr>\n",
       "      <th>unique</th>\n",
       "      <td>32</td>\n",
       "      <td>2058</td>\n",
       "      <td>2058</td>\n",
       "      <td>NaN</td>\n",
       "      <td>NaN</td>\n",
       "      <td>NaN</td>\n",
       "      <td>3</td>\n",
       "      <td>3</td>\n",
       "      <td>2</td>\n",
       "      <td>5</td>\n",
       "      <td>393</td>\n",
       "      <td>121</td>\n",
       "      <td>322</td>\n",
       "      <td>441</td>\n",
       "      <td>NaN</td>\n",
       "    </tr>\n",
       "    <tr>\n",
       "      <th>top</th>\n",
       "      <td>Maruti</td>\n",
       "      <td>Swift Dzire VDI</td>\n",
       "      <td>Maruti Swift Dzire VDI</td>\n",
       "      <td>NaN</td>\n",
       "      <td>NaN</td>\n",
       "      <td>NaN</td>\n",
       "      <td>Diesel</td>\n",
       "      <td>Individual</td>\n",
       "      <td>Manual</td>\n",
       "      <td>First</td>\n",
       "      <td>18.9 kmpl</td>\n",
       "      <td>1248 CC</td>\n",
       "      <td>74 bhp</td>\n",
       "      <td>190Nm@ 2000rpm</td>\n",
       "      <td>NaN</td>\n",
       "    </tr>\n",
       "    <tr>\n",
       "      <th>freq</th>\n",
       "      <td>2448</td>\n",
       "      <td>129</td>\n",
       "      <td>129</td>\n",
       "      <td>NaN</td>\n",
       "      <td>NaN</td>\n",
       "      <td>NaN</td>\n",
       "      <td>4402</td>\n",
       "      <td>6766</td>\n",
       "      <td>7078</td>\n",
       "      <td>5289</td>\n",
       "      <td>225</td>\n",
       "      <td>1017</td>\n",
       "      <td>377</td>\n",
       "      <td>530</td>\n",
       "      <td>NaN</td>\n",
       "    </tr>\n",
       "    <tr>\n",
       "      <th>mean</th>\n",
       "      <td>NaN</td>\n",
       "      <td>NaN</td>\n",
       "      <td>NaN</td>\n",
       "      <td>2013.804011</td>\n",
       "      <td>6.382718e+05</td>\n",
       "      <td>6.981951e+04</td>\n",
       "      <td>NaN</td>\n",
       "      <td>NaN</td>\n",
       "      <td>NaN</td>\n",
       "      <td>NaN</td>\n",
       "      <td>NaN</td>\n",
       "      <td>NaN</td>\n",
       "      <td>NaN</td>\n",
       "      <td>NaN</td>\n",
       "      <td>5.416719</td>\n",
       "    </tr>\n",
       "    <tr>\n",
       "      <th>std</th>\n",
       "      <td>NaN</td>\n",
       "      <td>NaN</td>\n",
       "      <td>NaN</td>\n",
       "      <td>4.044249</td>\n",
       "      <td>8.062534e+05</td>\n",
       "      <td>5.655055e+04</td>\n",
       "      <td>NaN</td>\n",
       "      <td>NaN</td>\n",
       "      <td>NaN</td>\n",
       "      <td>NaN</td>\n",
       "      <td>NaN</td>\n",
       "      <td>NaN</td>\n",
       "      <td>NaN</td>\n",
       "      <td>NaN</td>\n",
       "      <td>0.959588</td>\n",
       "    </tr>\n",
       "    <tr>\n",
       "      <th>min</th>\n",
       "      <td>NaN</td>\n",
       "      <td>NaN</td>\n",
       "      <td>NaN</td>\n",
       "      <td>1983.000000</td>\n",
       "      <td>2.999900e+04</td>\n",
       "      <td>1.000000e+00</td>\n",
       "      <td>NaN</td>\n",
       "      <td>NaN</td>\n",
       "      <td>NaN</td>\n",
       "      <td>NaN</td>\n",
       "      <td>NaN</td>\n",
       "      <td>NaN</td>\n",
       "      <td>NaN</td>\n",
       "      <td>NaN</td>\n",
       "      <td>2.000000</td>\n",
       "    </tr>\n",
       "    <tr>\n",
       "      <th>25%</th>\n",
       "      <td>NaN</td>\n",
       "      <td>NaN</td>\n",
       "      <td>NaN</td>\n",
       "      <td>2011.000000</td>\n",
       "      <td>2.549990e+05</td>\n",
       "      <td>3.500000e+04</td>\n",
       "      <td>NaN</td>\n",
       "      <td>NaN</td>\n",
       "      <td>NaN</td>\n",
       "      <td>NaN</td>\n",
       "      <td>NaN</td>\n",
       "      <td>NaN</td>\n",
       "      <td>NaN</td>\n",
       "      <td>NaN</td>\n",
       "      <td>5.000000</td>\n",
       "    </tr>\n",
       "    <tr>\n",
       "      <th>50%</th>\n",
       "      <td>NaN</td>\n",
       "      <td>NaN</td>\n",
       "      <td>NaN</td>\n",
       "      <td>2015.000000</td>\n",
       "      <td>4.500000e+05</td>\n",
       "      <td>6.000000e+04</td>\n",
       "      <td>NaN</td>\n",
       "      <td>NaN</td>\n",
       "      <td>NaN</td>\n",
       "      <td>NaN</td>\n",
       "      <td>NaN</td>\n",
       "      <td>NaN</td>\n",
       "      <td>NaN</td>\n",
       "      <td>NaN</td>\n",
       "      <td>5.000000</td>\n",
       "    </tr>\n",
       "    <tr>\n",
       "      <th>75%</th>\n",
       "      <td>NaN</td>\n",
       "      <td>NaN</td>\n",
       "      <td>NaN</td>\n",
       "      <td>2017.000000</td>\n",
       "      <td>6.750000e+05</td>\n",
       "      <td>9.800000e+04</td>\n",
       "      <td>NaN</td>\n",
       "      <td>NaN</td>\n",
       "      <td>NaN</td>\n",
       "      <td>NaN</td>\n",
       "      <td>NaN</td>\n",
       "      <td>NaN</td>\n",
       "      <td>NaN</td>\n",
       "      <td>NaN</td>\n",
       "      <td>5.000000</td>\n",
       "    </tr>\n",
       "    <tr>\n",
       "      <th>max</th>\n",
       "      <td>NaN</td>\n",
       "      <td>NaN</td>\n",
       "      <td>NaN</td>\n",
       "      <td>2020.000000</td>\n",
       "      <td>1.000000e+07</td>\n",
       "      <td>2.360457e+06</td>\n",
       "      <td>NaN</td>\n",
       "      <td>NaN</td>\n",
       "      <td>NaN</td>\n",
       "      <td>NaN</td>\n",
       "      <td>NaN</td>\n",
       "      <td>NaN</td>\n",
       "      <td>NaN</td>\n",
       "      <td>NaN</td>\n",
       "      <td>14.000000</td>\n",
       "    </tr>\n",
       "  </tbody>\n",
       "</table>\n",
       "</div>"
      ],
      "text/plain": [
       "          MAKE            MODEL           FullModelName         Year  \\\n",
       "count     8128             8128                    8128  8128.000000   \n",
       "unique      32             2058                    2058          NaN   \n",
       "top     Maruti  Swift Dzire VDI  Maruti Swift Dzire VDI          NaN   \n",
       "freq      2448              129                     129          NaN   \n",
       "mean       NaN              NaN                     NaN  2013.804011   \n",
       "std        NaN              NaN                     NaN     4.044249   \n",
       "min        NaN              NaN                     NaN  1983.000000   \n",
       "25%        NaN              NaN                     NaN  2011.000000   \n",
       "50%        NaN              NaN                     NaN  2015.000000   \n",
       "75%        NaN              NaN                     NaN  2017.000000   \n",
       "max        NaN              NaN                     NaN  2020.000000   \n",
       "\n",
       "        Selling_Price     Km_Driven    Fuel Seller_Type Transmission  Owner  \\\n",
       "count    8.128000e+03  8.128000e+03    8128        8128         8128   8128   \n",
       "unique            NaN           NaN       3           3            2      5   \n",
       "top               NaN           NaN  Diesel  Individual       Manual  First   \n",
       "freq              NaN           NaN    4402        6766         7078   5289   \n",
       "mean     6.382718e+05  6.981951e+04     NaN         NaN          NaN    NaN   \n",
       "std      8.062534e+05  5.655055e+04     NaN         NaN          NaN    NaN   \n",
       "min      2.999900e+04  1.000000e+00     NaN         NaN          NaN    NaN   \n",
       "25%      2.549990e+05  3.500000e+04     NaN         NaN          NaN    NaN   \n",
       "50%      4.500000e+05  6.000000e+04     NaN         NaN          NaN    NaN   \n",
       "75%      6.750000e+05  9.800000e+04     NaN         NaN          NaN    NaN   \n",
       "max      1.000000e+07  2.360457e+06     NaN         NaN          NaN    NaN   \n",
       "\n",
       "          Mileage   Engine Max_Power          Torque        Seats  \n",
       "count        7907     7907      7913            7906  7907.000000  \n",
       "unique        393      121       322             441          NaN  \n",
       "top     18.9 kmpl  1248 CC    74 bhp  190Nm@ 2000rpm          NaN  \n",
       "freq          225     1017       377             530          NaN  \n",
       "mean          NaN      NaN       NaN             NaN     5.416719  \n",
       "std           NaN      NaN       NaN             NaN     0.959588  \n",
       "min           NaN      NaN       NaN             NaN     2.000000  \n",
       "25%           NaN      NaN       NaN             NaN     5.000000  \n",
       "50%           NaN      NaN       NaN             NaN     5.000000  \n",
       "75%           NaN      NaN       NaN             NaN     5.000000  \n",
       "max           NaN      NaN       NaN             NaN    14.000000  "
      ]
     },
     "execution_count": 42,
     "metadata": {},
     "output_type": "execute_result"
    }
   ],
   "source": [
    "cp.describe(include='all')"
   ]
  },
  {
   "cell_type": "code",
   "execution_count": 43,
   "metadata": {},
   "outputs": [
    {
     "name": "stdout",
     "output_type": "stream",
     "text": [
      "Unique values in:  MAKE  is:- 32\n",
      "Unique values in:  MODEL  is:- 2058\n",
      "Unique values in:  FullModelName  is:- 2058\n",
      "Unique values in:  Year  is:- 29\n",
      "Unique values in:  Selling_Price  is:- 677\n",
      "Unique values in:  Km_Driven  is:- 921\n",
      "Unique values in:  Fuel  is:- 3\n",
      "Unique values in:  Seller_Type  is:- 3\n",
      "Unique values in:  Transmission  is:- 2\n",
      "Unique values in:  Owner  is:- 5\n",
      "Unique values in:  Mileage  is:- 393\n",
      "Unique values in:  Engine  is:- 121\n",
      "Unique values in:  Max_Power  is:- 322\n",
      "Unique values in:  Torque  is:- 441\n",
      "Unique values in:  Seats  is:- 9\n"
     ]
    }
   ],
   "source": [
    "for i in cp.columns.tolist():\n",
    "    print('Unique values in:','',i,'','is:-',cp[i].nunique())"
   ]
  },
  {
   "cell_type": "code",
   "execution_count": 44,
   "metadata": {},
   "outputs": [
    {
     "data": {
      "text/plain": [
       "MAKE               0\n",
       "MODEL              0\n",
       "FullModelName      0\n",
       "Year               0\n",
       "Selling_Price      0\n",
       "Km_Driven          0\n",
       "Fuel               0\n",
       "Seller_Type        0\n",
       "Transmission       0\n",
       "Owner              0\n",
       "Mileage          221\n",
       "Engine           221\n",
       "Max_Power        215\n",
       "Torque           222\n",
       "Seats            221\n",
       "dtype: int64"
      ]
     },
     "execution_count": 44,
     "metadata": {},
     "output_type": "execute_result"
    }
   ],
   "source": [
    "cp.isnull().sum()"
   ]
  },
  {
   "cell_type": "code",
   "execution_count": 45,
   "metadata": {},
   "outputs": [
    {
     "name": "stdout",
     "output_type": "stream",
     "text": [
      "<class 'pandas.core.frame.DataFrame'>\n",
      "RangeIndex: 8128 entries, 0 to 8127\n",
      "Data columns (total 15 columns):\n",
      " #   Column         Non-Null Count  Dtype  \n",
      "---  ------         --------------  -----  \n",
      " 0   MAKE           8128 non-null   object \n",
      " 1   MODEL          8128 non-null   object \n",
      " 2   FullModelName  8128 non-null   object \n",
      " 3   Year           8128 non-null   int64  \n",
      " 4   Selling_Price  8128 non-null   int64  \n",
      " 5   Km_Driven      8128 non-null   int64  \n",
      " 6   Fuel           8128 non-null   object \n",
      " 7   Seller_Type    8128 non-null   object \n",
      " 8   Transmission   8128 non-null   object \n",
      " 9   Owner          8128 non-null   object \n",
      " 10  Mileage        7907 non-null   object \n",
      " 11  Engine         7907 non-null   object \n",
      " 12  Max_Power      7913 non-null   object \n",
      " 13  Torque         7906 non-null   object \n",
      " 14  Seats          7907 non-null   float64\n",
      "dtypes: float64(1), int64(3), object(11)\n",
      "memory usage: 952.6+ KB\n"
     ]
    }
   ],
   "source": [
    "cp.info()"
   ]
  },
  {
   "cell_type": "code",
   "execution_count": 46,
   "metadata": {},
   "outputs": [
    {
     "data": {
      "text/plain": [
       "Index(['MAKE', 'MODEL', 'FullModelName', 'Year', 'Selling_Price', 'Km_Driven',\n",
       "       'Fuel', 'Seller_Type', 'Transmission', 'Owner', 'Mileage', 'Engine',\n",
       "       'Max_Power', 'Torque', 'Seats'],\n",
       "      dtype='object')"
      ]
     },
     "execution_count": 46,
     "metadata": {},
     "output_type": "execute_result"
    }
   ],
   "source": [
    "cp.columns"
   ]
  },
  {
   "cell_type": "markdown",
   "metadata": {},
   "source": [
    "DATA Preprocessing "
   ]
  },
  {
   "cell_type": "code",
   "execution_count": 47,
   "metadata": {},
   "outputs": [],
   "source": [
    "# Add a current year with constant value of current year(2025) to the Datafreame\n",
    "cp['Current Year']= 2025"
   ]
  },
  {
   "cell_type": "code",
   "execution_count": 48,
   "metadata": {},
   "outputs": [],
   "source": [
    "# Calcutate the age of the vehicles\n",
    "cp['No_of_Years']= cp['Current Year']-cp['Year']"
   ]
  },
  {
   "cell_type": "code",
   "execution_count": 49,
   "metadata": {},
   "outputs": [],
   "source": [
    "cp.drop(['Current Year'], axis=1, inplace= True)"
   ]
  },
  {
   "cell_type": "code",
   "execution_count": 50,
   "metadata": {},
   "outputs": [
    {
     "name": "stdout",
     "output_type": "stream",
     "text": [
      "Values Count: Mileage is:-\n",
      "Mileage\n",
      "18.9 kmpl     225\n",
      "19.7 kmpl     173\n",
      "18.6 kmpl     164\n",
      "21.1 kmpl     157\n",
      "17.0 kmpl     133\n",
      "             ... \n",
      "11.3 kmpl       1\n",
      "15.1 km/kg      1\n",
      "14.21 kmpl      1\n",
      "11.72 kmpl      1\n",
      "16.51 kmpl      1\n",
      "Name: count, Length: 393, dtype: int64\n",
      "Values Count: Engine is:-\n",
      "Engine\n",
      "1248 CC    1017\n",
      "1197 CC     832\n",
      "998 CC      453\n",
      "796 CC      444\n",
      "2179 CC     389\n",
      "           ... \n",
      "2650 CC       1\n",
      "2446 CC       1\n",
      "3498 CC       1\n",
      "2776 CC       1\n",
      "1950 CC       1\n",
      "Name: count, Length: 121, dtype: int64\n",
      "Values Count: Max_Power is:-\n",
      "Max_Power\n",
      "74 bhp        377\n",
      "81.80 bhp     220\n",
      "88.5 bhp      204\n",
      "67 bhp        165\n",
      "46.3 bhp      162\n",
      "             ... \n",
      "57 bhp          1\n",
      "68.4 bhp        1\n",
      "170.63 bhp      1\n",
      "203 bhp         1\n",
      "135.1 bhp       1\n",
      "Name: count, Length: 322, dtype: int64\n",
      "Values Count: Torque is:-\n",
      "Torque\n",
      "190Nm@ 2000rpm           530\n",
      "200Nm@ 1750rpm           445\n",
      "90Nm@ 3500rpm            405\n",
      "113Nm@ 4200rpm           223\n",
      "114Nm@ 4000rpm           171\n",
      "                        ... \n",
      "72.9Nm@ 2250rpm            1\n",
      "151Nm@ 2400rpm             1\n",
      "190Nm@ 3700rpm             1\n",
      "436.4Nm@ 1800-2500rpm      1\n",
      "96  Nm at 3000  rpm        1\n",
      "Name: count, Length: 441, dtype: int64\n"
     ]
    }
   ],
   "source": [
    "# Frequency Columns \n",
    "fre_col = ['Mileage','Engine','Max_Power','Torque']\n",
    "# Check the value count for each\n",
    "for x in fre_col:\n",
    "    print('Values Count:', x, 'is:-')\n",
    "    print(cp[x].value_counts())\n",
    "\n",
    "# Frecuency of Numeric column\n",
    "avg_col= cp['Seats'].astype('float').mode()"
   ]
  },
  {
   "cell_type": "code",
   "execution_count": 51,
   "metadata": {},
   "outputs": [],
   "source": [
    "# Missing values\n",
    "# Frequency Columns\n",
    "cp['Mileage'].replace(np.nan,'18.9',inplace= True)\n",
    "cp['Engine'].replace(np.nan,'1248.0',inplace= True)\n",
    "cp['Max_Power'].replace(np.nan,'74.0',inplace= True)\n",
    "cp['Torque'].replace(np.nan,'190Nm@ 2000rpm',inplace= True)\n",
    "\n",
    "# Frecuency of Numeric column\n",
    "avg_col= cp['Seats'].astype('float').mode()[0]\n",
    "cp['Seats'].replace(np.nan,avg_col,inplace=True)"
   ]
  },
  {
   "cell_type": "code",
   "execution_count": 52,
   "metadata": {},
   "outputs": [
    {
     "data": {
      "text/plain": [
       "MAKE             0\n",
       "MODEL            0\n",
       "FullModelName    0\n",
       "Year             0\n",
       "Selling_Price    0\n",
       "Km_Driven        0\n",
       "Fuel             0\n",
       "Seller_Type      0\n",
       "Transmission     0\n",
       "Owner            0\n",
       "Mileage          0\n",
       "Engine           0\n",
       "Max_Power        0\n",
       "Torque           0\n",
       "Seats            0\n",
       "No_of_Years      0\n",
       "dtype: int64"
      ]
     },
     "execution_count": 52,
     "metadata": {},
     "output_type": "execute_result"
    }
   ],
   "source": [
    "cp.isnull().sum()"
   ]
  },
  {
   "cell_type": "code",
   "execution_count": 53,
   "metadata": {},
   "outputs": [],
   "source": [
    "# Convert Mileage to Numeric (Handling 'km/kg' separately)\n",
    "cp[\"Mileage\"] = cp[\"Mileage\"].str.replace(\"kmpl\", \"\", regex=False).str.replace(\"km/kg\", \"\", regex=False).astype(float)\n",
    "cp[\"Mileage\"] = pd.to_numeric(cp[\"Mileage\"], errors='coerce')"
   ]
  },
  {
   "cell_type": "code",
   "execution_count": 54,
   "metadata": {},
   "outputs": [],
   "source": [
    "# Convert Engine to Numeric\n",
    "cp[\"Engine\"] = cp[\"Engine\"].str.replace(\"CC\", \"\", regex=False)\n",
    "cp[\"Engine\"] = pd.to_numeric(cp[\"Engine\"], errors='coerce')"
   ]
  },
  {
   "cell_type": "code",
   "execution_count": 55,
   "metadata": {},
   "outputs": [],
   "source": [
    "# Convert Max_Power to Numeric\n",
    "cp[\"Max_Power\"] = cp[\"Max_Power\"].str.replace(\"bhp\", \"\", regex=False)\n",
    "cp[\"Max_Power\"] = pd.to_numeric(cp[\"Max_Power\"], errors='coerce')\n"
   ]
  },
  {
   "cell_type": "code",
   "execution_count": 56,
   "metadata": {},
   "outputs": [],
   "source": [
    "# Convert Touque to Numeric\n",
    "cp[\"Torque\"] = cp[\"Torque\"].str.replace(\"bhp\", \"\", regex=False)\n",
    "cp[\"Torque\"] = pd.to_numeric(cp[\"Torque\"], errors='coerce')\n"
   ]
  },
  {
   "cell_type": "code",
   "execution_count": 57,
   "metadata": {},
   "outputs": [
    {
     "data": {
      "text/html": [
       "<div>\n",
       "<style scoped>\n",
       "    .dataframe tbody tr th:only-of-type {\n",
       "        vertical-align: middle;\n",
       "    }\n",
       "\n",
       "    .dataframe tbody tr th {\n",
       "        vertical-align: top;\n",
       "    }\n",
       "\n",
       "    .dataframe thead th {\n",
       "        text-align: right;\n",
       "    }\n",
       "</style>\n",
       "<table border=\"1\" class=\"dataframe\">\n",
       "  <thead>\n",
       "    <tr style=\"text-align: right;\">\n",
       "      <th></th>\n",
       "      <th>MAKE</th>\n",
       "      <th>MODEL</th>\n",
       "      <th>FullModelName</th>\n",
       "      <th>Year</th>\n",
       "      <th>Selling_Price</th>\n",
       "      <th>Km_Driven</th>\n",
       "      <th>Fuel</th>\n",
       "      <th>Seller_Type</th>\n",
       "      <th>Transmission</th>\n",
       "      <th>Owner</th>\n",
       "      <th>Mileage</th>\n",
       "      <th>Engine</th>\n",
       "      <th>Max_Power</th>\n",
       "      <th>Torque</th>\n",
       "      <th>Seats</th>\n",
       "      <th>No_of_Years</th>\n",
       "    </tr>\n",
       "  </thead>\n",
       "  <tbody>\n",
       "    <tr>\n",
       "      <th>0</th>\n",
       "      <td>Maruti</td>\n",
       "      <td>Swift Dzire VDI</td>\n",
       "      <td>Maruti Swift Dzire VDI</td>\n",
       "      <td>2014</td>\n",
       "      <td>450000</td>\n",
       "      <td>145500</td>\n",
       "      <td>Diesel</td>\n",
       "      <td>Individual</td>\n",
       "      <td>Manual</td>\n",
       "      <td>First</td>\n",
       "      <td>23.40</td>\n",
       "      <td>1248.0</td>\n",
       "      <td>74.00</td>\n",
       "      <td>NaN</td>\n",
       "      <td>5.0</td>\n",
       "      <td>11</td>\n",
       "    </tr>\n",
       "    <tr>\n",
       "      <th>1</th>\n",
       "      <td>Skoda</td>\n",
       "      <td>Rapid 1.5 TDI Ambition</td>\n",
       "      <td>Skoda Rapid 1.5 TDI Ambition</td>\n",
       "      <td>2014</td>\n",
       "      <td>370000</td>\n",
       "      <td>120000</td>\n",
       "      <td>Diesel</td>\n",
       "      <td>Individual</td>\n",
       "      <td>Manual</td>\n",
       "      <td>Second</td>\n",
       "      <td>21.14</td>\n",
       "      <td>1498.0</td>\n",
       "      <td>103.52</td>\n",
       "      <td>NaN</td>\n",
       "      <td>5.0</td>\n",
       "      <td>11</td>\n",
       "    </tr>\n",
       "    <tr>\n",
       "      <th>2</th>\n",
       "      <td>Honda</td>\n",
       "      <td>City 2017-2020 EXi</td>\n",
       "      <td>Honda City 2017-2020 EXi</td>\n",
       "      <td>2006</td>\n",
       "      <td>158000</td>\n",
       "      <td>140000</td>\n",
       "      <td>Petrol</td>\n",
       "      <td>Individual</td>\n",
       "      <td>Manual</td>\n",
       "      <td>Third</td>\n",
       "      <td>17.70</td>\n",
       "      <td>1497.0</td>\n",
       "      <td>78.00</td>\n",
       "      <td>NaN</td>\n",
       "      <td>5.0</td>\n",
       "      <td>19</td>\n",
       "    </tr>\n",
       "    <tr>\n",
       "      <th>3</th>\n",
       "      <td>Hyundai</td>\n",
       "      <td>i20 Sportz Diesel</td>\n",
       "      <td>Hyundai i20 Sportz Diesel</td>\n",
       "      <td>2010</td>\n",
       "      <td>225000</td>\n",
       "      <td>127000</td>\n",
       "      <td>Diesel</td>\n",
       "      <td>Individual</td>\n",
       "      <td>Manual</td>\n",
       "      <td>First</td>\n",
       "      <td>23.00</td>\n",
       "      <td>1396.0</td>\n",
       "      <td>90.00</td>\n",
       "      <td>NaN</td>\n",
       "      <td>5.0</td>\n",
       "      <td>15</td>\n",
       "    </tr>\n",
       "    <tr>\n",
       "      <th>4</th>\n",
       "      <td>Maruti</td>\n",
       "      <td>Swift VXI BSIII</td>\n",
       "      <td>Maruti Swift VXI BSIII</td>\n",
       "      <td>2007</td>\n",
       "      <td>130000</td>\n",
       "      <td>120000</td>\n",
       "      <td>Petrol</td>\n",
       "      <td>Individual</td>\n",
       "      <td>Manual</td>\n",
       "      <td>First</td>\n",
       "      <td>16.10</td>\n",
       "      <td>1298.0</td>\n",
       "      <td>88.20</td>\n",
       "      <td>NaN</td>\n",
       "      <td>5.0</td>\n",
       "      <td>18</td>\n",
       "    </tr>\n",
       "  </tbody>\n",
       "</table>\n",
       "</div>"
      ],
      "text/plain": [
       "      MAKE                   MODEL                 FullModelName  Year  \\\n",
       "0   Maruti         Swift Dzire VDI        Maruti Swift Dzire VDI  2014   \n",
       "1    Skoda  Rapid 1.5 TDI Ambition  Skoda Rapid 1.5 TDI Ambition  2014   \n",
       "2    Honda      City 2017-2020 EXi      Honda City 2017-2020 EXi  2006   \n",
       "3  Hyundai       i20 Sportz Diesel     Hyundai i20 Sportz Diesel  2010   \n",
       "4   Maruti         Swift VXI BSIII        Maruti Swift VXI BSIII  2007   \n",
       "\n",
       "   Selling_Price  Km_Driven    Fuel Seller_Type Transmission   Owner  Mileage  \\\n",
       "0         450000     145500  Diesel  Individual       Manual   First    23.40   \n",
       "1         370000     120000  Diesel  Individual       Manual  Second    21.14   \n",
       "2         158000     140000  Petrol  Individual       Manual   Third    17.70   \n",
       "3         225000     127000  Diesel  Individual       Manual   First    23.00   \n",
       "4         130000     120000  Petrol  Individual       Manual   First    16.10   \n",
       "\n",
       "   Engine  Max_Power  Torque  Seats  No_of_Years  \n",
       "0  1248.0      74.00     NaN    5.0           11  \n",
       "1  1498.0     103.52     NaN    5.0           11  \n",
       "2  1497.0      78.00     NaN    5.0           19  \n",
       "3  1396.0      90.00     NaN    5.0           15  \n",
       "4  1298.0      88.20     NaN    5.0           18  "
      ]
     },
     "execution_count": 57,
     "metadata": {},
     "output_type": "execute_result"
    }
   ],
   "source": [
    "cp.head()"
   ]
  },
  {
   "cell_type": "code",
   "execution_count": 58,
   "metadata": {},
   "outputs": [
    {
     "name": "stdout",
     "output_type": "stream",
     "text": [
      "<class 'pandas.core.frame.DataFrame'>\n",
      "RangeIndex: 8128 entries, 0 to 8127\n",
      "Data columns (total 16 columns):\n",
      " #   Column         Non-Null Count  Dtype  \n",
      "---  ------         --------------  -----  \n",
      " 0   MAKE           8128 non-null   object \n",
      " 1   MODEL          8128 non-null   object \n",
      " 2   FullModelName  8128 non-null   object \n",
      " 3   Year           8128 non-null   int64  \n",
      " 4   Selling_Price  8128 non-null   int64  \n",
      " 5   Km_Driven      8128 non-null   int64  \n",
      " 6   Fuel           8128 non-null   object \n",
      " 7   Seller_Type    8128 non-null   object \n",
      " 8   Transmission   8128 non-null   object \n",
      " 9   Owner          8128 non-null   object \n",
      " 10  Mileage        8128 non-null   float64\n",
      " 11  Engine         8128 non-null   float64\n",
      " 12  Max_Power      8127 non-null   float64\n",
      " 13  Torque         0 non-null      float64\n",
      " 14  Seats          8128 non-null   float64\n",
      " 15  No_of_Years    8128 non-null   int64  \n",
      "dtypes: float64(5), int64(4), object(7)\n",
      "memory usage: 1016.1+ KB\n"
     ]
    }
   ],
   "source": [
    "cp.info()"
   ]
  },
  {
   "cell_type": "code",
   "execution_count": 59,
   "metadata": {},
   "outputs": [
    {
     "data": {
      "text/plain": [
       "MAKE                0\n",
       "MODEL               0\n",
       "FullModelName       0\n",
       "Year                0\n",
       "Selling_Price       0\n",
       "Km_Driven           0\n",
       "Fuel                0\n",
       "Seller_Type         0\n",
       "Transmission        0\n",
       "Owner               0\n",
       "Mileage             0\n",
       "Engine              0\n",
       "Max_Power           1\n",
       "Torque           8128\n",
       "Seats               0\n",
       "No_of_Years         0\n",
       "dtype: int64"
      ]
     },
     "execution_count": 59,
     "metadata": {},
     "output_type": "execute_result"
    }
   ],
   "source": [
    "cp.isnull().sum()"
   ]
  },
  {
   "cell_type": "code",
   "execution_count": 60,
   "metadata": {},
   "outputs": [],
   "source": [
    "# Drop the 'FullModelName' column from Dataframe\n",
    "car_data = cp.drop(columns=['FullModelName','Torque'])\n"
   ]
  },
  {
   "cell_type": "code",
   "execution_count": 61,
   "metadata": {},
   "outputs": [
    {
     "name": "stdout",
     "output_type": "stream",
     "text": [
      "<class 'pandas.core.frame.DataFrame'>\n",
      "RangeIndex: 8128 entries, 0 to 8127\n",
      "Data columns (total 14 columns):\n",
      " #   Column         Non-Null Count  Dtype  \n",
      "---  ------         --------------  -----  \n",
      " 0   MAKE           8128 non-null   object \n",
      " 1   MODEL          8128 non-null   object \n",
      " 2   Year           8128 non-null   int64  \n",
      " 3   Selling_Price  8128 non-null   int64  \n",
      " 4   Km_Driven      8128 non-null   int64  \n",
      " 5   Fuel           8128 non-null   object \n",
      " 6   Seller_Type    8128 non-null   object \n",
      " 7   Transmission   8128 non-null   object \n",
      " 8   Owner          8128 non-null   object \n",
      " 9   Mileage        8128 non-null   float64\n",
      " 10  Engine         8128 non-null   float64\n",
      " 11  Max_Power      8127 non-null   float64\n",
      " 12  Seats          8128 non-null   float64\n",
      " 13  No_of_Years    8128 non-null   int64  \n",
      "dtypes: float64(4), int64(4), object(6)\n",
      "memory usage: 889.1+ KB\n"
     ]
    }
   ],
   "source": [
    "car_data.info()"
   ]
  },
  {
   "cell_type": "code",
   "execution_count": 62,
   "metadata": {},
   "outputs": [],
   "source": [
    "car_data['Max_Power'].replace(np.nan,'74.0',inplace= True)"
   ]
  },
  {
   "cell_type": "code",
   "execution_count": 63,
   "metadata": {},
   "outputs": [
    {
     "data": {
      "text/plain": [
       "MAKE             0\n",
       "MODEL            0\n",
       "Year             0\n",
       "Selling_Price    0\n",
       "Km_Driven        0\n",
       "Fuel             0\n",
       "Seller_Type      0\n",
       "Transmission     0\n",
       "Owner            0\n",
       "Mileage          0\n",
       "Engine           0\n",
       "Max_Power        0\n",
       "Seats            0\n",
       "No_of_Years      0\n",
       "dtype: int64"
      ]
     },
     "execution_count": 63,
     "metadata": {},
     "output_type": "execute_result"
    }
   ],
   "source": [
    "car_data.isnull().sum()"
   ]
  },
  {
   "cell_type": "code",
   "execution_count": 64,
   "metadata": {},
   "outputs": [],
   "source": [
    "# import matplotlib.pyplot as plt\n",
    "# import seaborn as sns\n",
    "# \n",
    "# # Select numerical columns\n",
    "# num_cols = car_data.select_dtypes(include=['float64', 'int64']).columns\n",
    "# \n",
    "# # Boxplots for visualization\n",
    "# plt.figure(figsize=(15, 8))\n",
    "# car_data[num_cols].boxplot()\n",
    "# plt.xticks(rotation=45)\n",
    "# plt.title(\"Boxplot of Numerical Features to Identify Outliers\")\n",
    "# plt.show()\n"
   ]
  },
  {
   "cell_type": "markdown",
   "metadata": {},
   "source": [
    "Encoding"
   ]
  },
  {
   "cell_type": "code",
   "execution_count": 66,
   "metadata": {},
   "outputs": [],
   "source": [
    "from sklearn.preprocessing import LabelEncoder, OneHotEncoder\n",
    "from category_encoders import TargetEncoder\n"
   ]
  },
  {
   "cell_type": "code",
   "execution_count": 67,
   "metadata": {},
   "outputs": [],
   "source": [
    "# Binary Column Encoding\n",
    "le = LabelEncoder()\n",
    "car_data['Transmission'] = le.fit_transform(car_data['Transmission'])"
   ]
  },
  {
   "cell_type": "code",
   "execution_count": 68,
   "metadata": {},
   "outputs": [],
   "source": [
    "# Ordinal Columns Encoding\n",
    "oe = {'First':1,'Second':2,'Third':3,'Fourth & Above Owner':4,'Test Drive Car':0}\n",
    "car_data['Owner']= car_data['Owner'].map(oe)"
   ]
  },
  {
   "cell_type": "code",
   "execution_count": 69,
   "metadata": {},
   "outputs": [],
   "source": [
    "# Low-cardinality columns Encoding\n",
    "car_data= pd.get_dummies(car_data,columns=['Fuel','Seller_Type'],drop_first= True)"
   ]
  },
  {
   "cell_type": "code",
   "execution_count": 70,
   "metadata": {},
   "outputs": [],
   "source": [
    "# High-cardinality columns  Target Encoding\n",
    "te = TargetEncoder()\n",
    "car_data[['MAKE','MODEL']] =te.fit_transform(\n",
    "    car_data[['MAKE','MODEL']],car_data['Selling_Price'])\n",
    "\n",
    "#### Target Encoding works by replacing each category with the mean of the target variable (Selling_Price) for that category."
   ]
  },
  {
   "cell_type": "code",
   "execution_count": 71,
   "metadata": {},
   "outputs": [
    {
     "data": {
      "text/html": [
       "<div>\n",
       "<style scoped>\n",
       "    .dataframe tbody tr th:only-of-type {\n",
       "        vertical-align: middle;\n",
       "    }\n",
       "\n",
       "    .dataframe tbody tr th {\n",
       "        vertical-align: top;\n",
       "    }\n",
       "\n",
       "    .dataframe thead th {\n",
       "        text-align: right;\n",
       "    }\n",
       "</style>\n",
       "<table border=\"1\" class=\"dataframe\">\n",
       "  <thead>\n",
       "    <tr style=\"text-align: right;\">\n",
       "      <th></th>\n",
       "      <th>MAKE</th>\n",
       "      <th>MODEL</th>\n",
       "      <th>Year</th>\n",
       "      <th>Selling_Price</th>\n",
       "      <th>Km_Driven</th>\n",
       "      <th>Transmission</th>\n",
       "      <th>Owner</th>\n",
       "      <th>Mileage</th>\n",
       "      <th>Engine</th>\n",
       "      <th>Max_Power</th>\n",
       "      <th>Seats</th>\n",
       "      <th>No_of_Years</th>\n",
       "      <th>Fuel_Diesel</th>\n",
       "      <th>Fuel_Petrol</th>\n",
       "      <th>Seller_Type_Individual</th>\n",
       "      <th>Seller_Type_Trustmark Dealer</th>\n",
       "    </tr>\n",
       "  </thead>\n",
       "  <tbody>\n",
       "    <tr>\n",
       "      <th>0</th>\n",
       "      <td>403075.721405</td>\n",
       "      <td>578659.960795</td>\n",
       "      <td>2014</td>\n",
       "      <td>450000</td>\n",
       "      <td>145500</td>\n",
       "      <td>1</td>\n",
       "      <td>1</td>\n",
       "      <td>23.40</td>\n",
       "      <td>1248.0</td>\n",
       "      <td>74.0</td>\n",
       "      <td>5.0</td>\n",
       "      <td>11</td>\n",
       "      <td>True</td>\n",
       "      <td>False</td>\n",
       "      <td>True</td>\n",
       "      <td>False</td>\n",
       "    </tr>\n",
       "    <tr>\n",
       "      <th>1</th>\n",
       "      <td>607729.985723</td>\n",
       "      <td>623092.226875</td>\n",
       "      <td>2014</td>\n",
       "      <td>370000</td>\n",
       "      <td>120000</td>\n",
       "      <td>1</td>\n",
       "      <td>2</td>\n",
       "      <td>21.14</td>\n",
       "      <td>1498.0</td>\n",
       "      <td>103.52</td>\n",
       "      <td>5.0</td>\n",
       "      <td>11</td>\n",
       "      <td>True</td>\n",
       "      <td>False</td>\n",
       "      <td>True</td>\n",
       "      <td>False</td>\n",
       "    </tr>\n",
       "    <tr>\n",
       "      <th>2</th>\n",
       "      <td>596178.014989</td>\n",
       "      <td>536944.137982</td>\n",
       "      <td>2006</td>\n",
       "      <td>158000</td>\n",
       "      <td>140000</td>\n",
       "      <td>1</td>\n",
       "      <td>3</td>\n",
       "      <td>17.70</td>\n",
       "      <td>1497.0</td>\n",
       "      <td>78.0</td>\n",
       "      <td>5.0</td>\n",
       "      <td>19</td>\n",
       "      <td>False</td>\n",
       "      <td>True</td>\n",
       "      <td>True</td>\n",
       "      <td>False</td>\n",
       "    </tr>\n",
       "    <tr>\n",
       "      <th>3</th>\n",
       "      <td>458554.366784</td>\n",
       "      <td>584501.643304</td>\n",
       "      <td>2010</td>\n",
       "      <td>225000</td>\n",
       "      <td>127000</td>\n",
       "      <td>1</td>\n",
       "      <td>1</td>\n",
       "      <td>23.00</td>\n",
       "      <td>1396.0</td>\n",
       "      <td>90.0</td>\n",
       "      <td>5.0</td>\n",
       "      <td>15</td>\n",
       "      <td>True</td>\n",
       "      <td>False</td>\n",
       "      <td>True</td>\n",
       "      <td>False</td>\n",
       "    </tr>\n",
       "    <tr>\n",
       "      <th>4</th>\n",
       "      <td>403075.721405</td>\n",
       "      <td>569009.931818</td>\n",
       "      <td>2007</td>\n",
       "      <td>130000</td>\n",
       "      <td>120000</td>\n",
       "      <td>1</td>\n",
       "      <td>1</td>\n",
       "      <td>16.10</td>\n",
       "      <td>1298.0</td>\n",
       "      <td>88.2</td>\n",
       "      <td>5.0</td>\n",
       "      <td>18</td>\n",
       "      <td>False</td>\n",
       "      <td>True</td>\n",
       "      <td>True</td>\n",
       "      <td>False</td>\n",
       "    </tr>\n",
       "  </tbody>\n",
       "</table>\n",
       "</div>"
      ],
      "text/plain": [
       "            MAKE          MODEL  Year  Selling_Price  Km_Driven  Transmission  \\\n",
       "0  403075.721405  578659.960795  2014         450000     145500             1   \n",
       "1  607729.985723  623092.226875  2014         370000     120000             1   \n",
       "2  596178.014989  536944.137982  2006         158000     140000             1   \n",
       "3  458554.366784  584501.643304  2010         225000     127000             1   \n",
       "4  403075.721405  569009.931818  2007         130000     120000             1   \n",
       "\n",
       "   Owner  Mileage  Engine Max_Power  Seats  No_of_Years  Fuel_Diesel  \\\n",
       "0      1    23.40  1248.0      74.0    5.0           11         True   \n",
       "1      2    21.14  1498.0    103.52    5.0           11         True   \n",
       "2      3    17.70  1497.0      78.0    5.0           19        False   \n",
       "3      1    23.00  1396.0      90.0    5.0           15         True   \n",
       "4      1    16.10  1298.0      88.2    5.0           18        False   \n",
       "\n",
       "   Fuel_Petrol  Seller_Type_Individual  Seller_Type_Trustmark Dealer  \n",
       "0        False                    True                         False  \n",
       "1        False                    True                         False  \n",
       "2         True                    True                         False  \n",
       "3        False                    True                         False  \n",
       "4         True                    True                         False  "
      ]
     },
     "execution_count": 71,
     "metadata": {},
     "output_type": "execute_result"
    }
   ],
   "source": [
    "car_data.head()"
   ]
  },
  {
   "cell_type": "code",
   "execution_count": 72,
   "metadata": {},
   "outputs": [
    {
     "data": {
      "text/plain": [
       "Index(['MAKE', 'MODEL', 'Year', 'Selling_Price', 'Km_Driven', 'Transmission',\n",
       "       'Owner', 'Mileage', 'Engine', 'Max_Power', 'Seats', 'No_of_Years',\n",
       "       'Fuel_Diesel', 'Fuel_Petrol', 'Seller_Type_Individual',\n",
       "       'Seller_Type_Trustmark Dealer'],\n",
       "      dtype='object')"
      ]
     },
     "execution_count": 72,
     "metadata": {},
     "output_type": "execute_result"
    }
   ],
   "source": [
    "car_data.columns"
   ]
  },
  {
   "cell_type": "markdown",
   "metadata": {},
   "source": [
    "Scaling & Split Train and test"
   ]
  },
  {
   "cell_type": "code",
   "execution_count": 73,
   "metadata": {},
   "outputs": [],
   "source": [
    "from sklearn.model_selection import train_test_split\n",
    "from sklearn.preprocessing import StandardScaler"
   ]
  },
  {
   "cell_type": "code",
   "execution_count": 74,
   "metadata": {},
   "outputs": [],
   "source": [
    "# Target variable(y)\n",
    "target_col = ['Selling_Price']\n",
    "# Featue variable(X)\n",
    "featue_col = ['MAKE','MODEL','Year','Km_Driven','Transmission',\n",
    "       'Owner','Mileage','Engine','Max_Power','Seats','No_of_Years',\n",
    "       'Fuel_Diesel', 'Fuel_Petrol', 'Seller_Type_Individual',\n",
    "       'Seller_Type_Trustmark Dealer'\n",
    "]\n"
   ]
  },
  {
   "cell_type": "code",
   "execution_count": 75,
   "metadata": {},
   "outputs": [],
   "source": [
    "#  # Split X and y\n",
    "#  X = car_data[featue_col]\n",
    "#  y = car_data[target_col]\n",
    "#  \n",
    "#  # Scaling to X\n",
    "#  scaler = StandardScaler()\n",
    "#  X_scaled = scaler.fit_transform(X)\n",
    "#  \n",
    "#  # Split into Training and Testing\n",
    "#  X_train, X_test, y_train, y_test = train_test_split(X_scaled, y, test_size=0.2, random_state=42)\n",
    "#  \n",
    "#  # verify the shapes\n",
    "#  print(\"X_train shape:\", X_train.shape)\n",
    "#  print(\"X_test shape:\", X_test.shape)\n",
    "#  print(\"y_train shape:\", y_train.shape)\n",
    "#  print(\"y_test shape:\", y_test.shape)"
   ]
  },
  {
   "cell_type": "code",
   "execution_count": 76,
   "metadata": {},
   "outputs": [
    {
     "name": "stdout",
     "output_type": "stream",
     "text": [
      "X_train shape: (6502, 15)\n",
      "X_test shape: (1626, 15)\n",
      "y_train shape: (6502,)\n",
      "y_test shape: (1626,)\n"
     ]
    }
   ],
   "source": [
    "# Split X and y\n",
    "X = car_data.drop(columns=['Selling_Price'])  # Features\n",
    "y = car_data['Selling_Price']  # Target variable\n",
    "\n",
    "# Splitting data \n",
    "X_train, X_test, y_train, y_test = train_test_split(X, y, test_size=0.2, random_state=56)\n",
    "\n",
    "# Feature Scaling (only for numerical features)\n",
    "scaler = StandardScaler()\n",
    "X_train = scaler.fit_transform(X_train)\n",
    "X_test = scaler.transform(X_test)\n",
    "\n",
    "print(\"X_train shape:\", X_train.shape)\n",
    "print(\"X_test shape:\", X_test.shape)\n",
    "print(\"y_train shape:\", y_train.shape)\n",
    "print(\"y_test shape:\", y_test.shape)\n"
   ]
  },
  {
   "cell_type": "code",
   "execution_count": 80,
   "metadata": {},
   "outputs": [
    {
     "name": "stdout",
     "output_type": "stream",
     "text": [
      "0       450000\n",
      "1       370000\n",
      "2       158000\n",
      "3       225000\n",
      "4       130000\n",
      "         ...  \n",
      "8123    320000\n",
      "8124    135000\n",
      "8125    382000\n",
      "8126    290000\n",
      "8127    290000\n",
      "Name: Selling_Price, Length: 8128, dtype: int64\n"
     ]
    }
   ],
   "source": [
    "print(y)"
   ]
  },
  {
   "cell_type": "markdown",
   "metadata": {},
   "source": [
    "Model Building"
   ]
  },
  {
   "cell_type": "code",
   "execution_count": 82,
   "metadata": {},
   "outputs": [],
   "source": [
    "from sklearn.linear_model import LinearRegression\n",
    "from sklearn.tree import DecisionTreeRegressor\n",
    "from sklearn.ensemble import RandomForestRegressor\n",
    "from sklearn.metrics import r2_score, mean_absolute_error, mean_squared_error"
   ]
  },
  {
   "cell_type": "code",
   "execution_count": 83,
   "metadata": {},
   "outputs": [
    {
     "name": "stdout",
     "output_type": "stream",
     "text": [
      "R² Score: 0.8639\n",
      "Mean Absolute Error (MAE): 148413.02\n"
     ]
    }
   ],
   "source": [
    "# Linear Regression model\n",
    "lr_model = LinearRegression()\n",
    "lr_model.fit(X_train, y_train)\n",
    "\n",
    "# Predictions\n",
    "y_pred = lr_model.predict(X_test)\n",
    "\n",
    "# Evaluation of the model\n",
    "r2 = r2_score(y_test, y_pred)\n",
    "mae = mean_absolute_error(y_test, y_pred)\n",
    "\n",
    "\n",
    "\n",
    "print(f\"R² Score: {r2:.4f}\")\n",
    "print(f\"Mean Absolute Error (MAE): {mae:.2f}\")"
   ]
  },
  {
   "cell_type": "code",
   "execution_count": 94,
   "metadata": {},
   "outputs": [
    {
     "data": {
      "image/png": "[encoded data removed]",
      "text/plain": [
       "<Figure size 800x600 with 1 Axes>"
      ]
     },
     "metadata": {},
     "output_type": "display_data"
    }
   ],
   "source": [
    "# Scatter plot with different colors\n",
    "plt.figure(figsize=(8, 6))\n",
    "colors = np.where(y_pred > y_test, \"blue\", \"red\")  # Green if over-predicted, Red if under-predicted\n",
    "plt.scatter(y_test, y_pred, c=colors, alpha=0.6, edgecolors=\"black\")\n",
    "\n",
    "# 45-degree reference line\n",
    "plt.plot([y_test.min(), y_test.max()], [y_test.min(), y_test.max()], color=\"blue\", linestyle=\"dashed\", linewidth=2)\n",
    "\n",
    "# Labels and title\n",
    "plt.xlabel(\"Actual Values\", fontsize=12)\n",
    "plt.ylabel(\"Predicted Values\", fontsize=12)\n",
    "plt.title(\"Actual vs Predicted Values\", fontsize=14)\n",
    "\n",
    "# Show plot\n",
    "plt.show()\n"
   ]
  },
  {
   "cell_type": "code",
   "execution_count": null,
   "metadata": {},
   "outputs": [
    {
     "name": "stdout",
     "output_type": "stream",
     "text": [
      "Decision Tree Regression Results:\n",
      "R² Score: 0.9817\n",
      "MAE: 62714.92\n",
      "MSE: 12443132038.49\n",
      "RMSE: 111548.79\n",
      "\n"
     ]
    }
   ],
   "source": [
    "# Decision Tree Regressor\n",
    "dt_model = DecisionTreeRegressor(random_state=56, max_depth=10)  # Limit depth to prevent overfitting\n",
    "dt_model.fit(X_train, y_train)\n",
    "\n",
    "# Predictions\n",
    "y_pred_dt = dt_model.predict(X_test)\n",
    "\n",
    "# Evaluation for Decision Tree\n",
    "r2_dt = r2_score(y_test, y_pred_dt)\n",
    "mae_dt = mean_absolute_error(y_test, y_pred_dt)\n",
    "mse_dt = mean_squared_error(y_test, y_pred_dt)\n",
    "rmse_dt = np.sqrt(mse_dt)\n",
    "\n",
    "# Results\n",
    "print(\"Decision Tree Regression Results:\")\n",
    "print(f\"R² Score: {r2_dt:.4f}\")\n",
    "print(f\"MAE: {mae_dt:.2f}\")\n",
    "print(f\"MSE: {mse_dt:.2f}\")\n",
    "print(f\"RMSE: {rmse_dt:.2f}\\n\")\n"
   ]
  },
  {
   "cell_type": "code",
   "execution_count": null,
   "metadata": {},
   "outputs": [
    {
     "name": "stdout",
     "output_type": "stream",
     "text": [
      "Random Forest Regression Results:\n",
      "R² Score: 0.9847\n",
      "MAE: 55765.78\n",
      "MSE: 10414306026.82\n",
      "RMSE: 102050.51\n",
      "\n"
     ]
    }
   ],
   "source": [
    "# Random Forest Regressor\n",
    "rf_model = RandomForestRegressor(n_estimators=100, random_state=56, max_depth=10)\n",
    "rf_model.fit(X_train, y_train)\n",
    "\n",
    "# Predictions\n",
    "y_pred_rf = rf_model.predict(X_test)\n",
    "\n",
    "# Evaluation for Random Forest\n",
    "r2_rf = r2_score(y_test, y_pred_rf)\n",
    "mae_rf = mean_absolute_error(y_test, y_pred_rf)\n",
    "mse_rf = mean_squared_error(y_test, y_pred_rf)\n",
    "rmse_rf = np.sqrt(mse_rf)\n",
    "\n",
    "# Results\n",
    "print(\"Random Forest Regression Results:\")\n",
    "print(f\"R² Score: {r2_rf:.4f}\")\n",
    "print(f\"MAE: {mae_rf:.2f}\")\n",
    "print(f\"MSE: {mse_rf:.2f}\")\n",
    "print(f\"RMSE: {rmse_rf:.2f}\\n\")\n"
   ]
  },
  {
   "cell_type": "markdown",
   "metadata": {},
   "source": [
    "Feature Importance Analysis"
   ]
  },
  {
   "cell_type": "code",
   "execution_count": null,
   "metadata": {},
   "outputs": [],
   "source": [
    "import matplotlib.pyplot as plt"
   ]
  },
  {
   "cell_type": "code",
   "execution_count": null,
   "metadata": {},
   "outputs": [],
   "source": [
    "# Extract Feature Importances\n",
    "\n",
    "# Linear Regression\n",
    "lr_importance = lr_model.coef_  # Taking absolute values for better comparison\n",
    "lr_feature_importance = pd.DataFrame({'Feature': X.columns, 'Importance': lr_importance})\n",
    "lr_feature_importance.sort_values(by='Importance', ascending=False, inplace=True)\n",
    "\n",
    "# Decision Tree\n",
    "dt_importance = dt_model.feature_importances_\n",
    "dt_feature_importance = pd.DataFrame({'Feature': X.columns, 'Importance': dt_importance})\n",
    "dt_feature_importance.sort_values(by='Importance', ascending=False, inplace=True)\n",
    "\n",
    "# Random Forest\n",
    "rf_importance = rf_model.feature_importances_\n",
    "rf_feature_importance = pd.DataFrame({'Feature': X.columns, 'Importance': rf_importance})\n",
    "rf_feature_importance.sort_values(by='Importance', ascending=False, inplace=True)"
   ]
  },
  {
   "cell_type": "code",
   "execution_count": null,
   "metadata": {},
   "outputs": [
    {
     "data": {
      "image/png": "[encoded data removed]",
      "text/plain": [
       "<Figure size 1500x500 with 3 Axes>"
      ]
     },
     "metadata": {},
     "output_type": "display_data"
    }
   ],
   "source": [
    "plt.figure(figsize=(15, 5))\n",
    "\n",
    "# Linear Regression\n",
    "plt.subplot(1, 3, 1)\n",
    "sns.barplot(x=lr_feature_importance['Importance'], y=lr_feature_importance['Feature'], palette='viridis')\n",
    "plt.title('Linear Regression')\n",
    "plt.xlabel('Feature Importance Score')\n",
    "\n",
    "# Decision Tree\n",
    "plt.subplot(1, 3, 2)\n",
    "sns.barplot(x=dt_feature_importance['Importance'], y=dt_feature_importance['Feature'], palette='viridis')\n",
    "plt.title('Decision Tree')\n",
    "plt.xlabel('Feature Importance Score')\n",
    "\n",
    "# Random Forest\n",
    "plt.subplot(1, 3, 3)\n",
    "sns.barplot(x=rf_feature_importance['Importance'], y=rf_feature_importance['Feature'], palette='viridis')\n",
    "plt.title('Random Forest')\n",
    "plt.xlabel('Feature Importance Score')\n",
    "\n",
    "plt.tight_layout()\n",
    "plt.show()\n"
   ]
  }
 ],
 "metadata": {
  "kernelspec": {
   "display_name": "Python 3",
   "language": "python",
   "name": "python3"
  },
  "language_info": {
   "codemirror_mode": {
    "name": "ipython",
    "version": 3
   },
   "file_extension": ".py",
   "mimetype": "text/x-python",
   "name": "python",
   "nbconvert_exporter": "python",
   "pygments_lexer": "ipython3",
   "version": "3.13.2"
  }
 },
 "nbformat": 4,
 "nbformat_minor": 2
}
